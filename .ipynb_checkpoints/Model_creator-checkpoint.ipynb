{
 "cells": [
  {
   "cell_type": "code",
   "execution_count": 9,
   "id": "6ca2582c",
   "metadata": {},
   "outputs": [],
   "source": [
    "import keras\n",
    "from keras.datasets import mnist\n",
    "from keras.models import Sequential\n",
    "from keras.layers import Dense,Dropout,Flatten\n",
    "from keras.layers import Conv2D,MaxPooling2D\n",
    "from keras import backend as k\n",
    "from tensorflow.keras.utils import to_categorical\n",
    "import tensorflow as tf"
   ]
  },
  {
   "cell_type": "code",
   "execution_count": 3,
   "id": "2f0361d7",
   "metadata": {},
   "outputs": [],
   "source": [
    "(x_train, y_train), (x_test, y_test) = mnist.load_data()"
   ]
  },
  {
   "cell_type": "code",
   "execution_count": 5,
   "id": "487a77a3",
   "metadata": {},
   "outputs": [],
   "source": [
    "x_train = x_train.reshape(x_train.shape[0],28,28,1)\n",
    "x_test = x_test.reshape(x_test.shape[0],28,28,1)\n",
    "\n",
    "y_train = to_categorical(y_train)\n",
    "y_test = to_categorical(y_test)\n",
    "\n",
    "x_train = x_train.astype('float32')\n",
    "x_test = x_test.astype('float32')\n",
    "x_train /= 255\n",
    "x_test /= 255\n",
    "\n",
    "input_shap = (28,28,1)"
   ]
  },
  {
   "cell_type": "code",
   "execution_count": 11,
   "id": "aa057f55",
   "metadata": {},
   "outputs": [],
   "source": [
    "batch_size = 200\n",
    "epoch = 20\n",
    "\n",
    "model = Sequential()\n",
    "\n",
    "model.add(Conv2D(32, kernel_size=(3,3), activation='relu', input_shape=input_shap))\n",
    "model.add(Conv2D(64, (3,3), activation='relu'))\n",
    "model.add(MaxPooling2D(pool_size=(2,2)))\n",
    "model.add(Dropout(0.25))\n",
    "model.add(Flatten())\n",
    "model.add(Dense(256,activation='relu'))\n",
    "model.add(Dropout(0.5))\n",
    "model.add(Dense(10,activation='softmax'))\n",
    "\n",
    "model.compile(loss=keras.losses.categorical_crossentropy,optimizer=tf.keras.optimizers.Adadelta())"
   ]
  },
  {
   "cell_type": "code",
   "execution_count": 12,
   "id": "5cb04759",
   "metadata": {},
   "outputs": [
    {
     "name": "stdout",
     "output_type": "stream",
     "text": [
      "Epoch 1/20\n",
      "300/300 [==============================] - 167s 532ms/step - loss: 2.2917 - val_loss: 2.2766\n",
      "Epoch 2/20\n",
      "300/300 [==============================] - 139s 462ms/step - loss: 2.2690 - val_loss: 2.2502\n",
      "Epoch 3/20\n",
      "300/300 [==============================] - 153s 509ms/step - loss: 2.2427 - val_loss: 2.2184\n",
      "Epoch 4/20\n",
      "300/300 [==============================] - 155s 517ms/step - loss: 2.2101 - val_loss: 2.1770\n",
      "Epoch 5/20\n",
      "300/300 [==============================] - 154s 515ms/step - loss: 2.1664 - val_loss: 2.1214\n",
      "Epoch 6/20\n",
      "300/300 [==============================] - 166s 554ms/step - loss: 2.1079 - val_loss: 2.0457\n",
      "Epoch 7/20\n",
      "300/300 [==============================] - 164s 546ms/step - loss: 2.0271 - val_loss: 1.9419\n",
      "Epoch 8/20\n",
      "300/300 [==============================] - 160s 533ms/step - loss: 1.9158 - val_loss: 1.8015\n",
      "Epoch 9/20\n",
      "300/300 [==============================] - 157s 523ms/step - loss: 1.7756 - val_loss: 1.6243\n",
      "Epoch 10/20\n",
      "300/300 [==============================] - 167s 556ms/step - loss: 1.6048 - val_loss: 1.4222\n",
      "Epoch 11/20\n",
      "300/300 [==============================] - 170s 568ms/step - loss: 1.4276 - val_loss: 1.2225\n",
      "Epoch 12/20\n",
      "300/300 [==============================] - 150s 500ms/step - loss: 1.2678 - val_loss: 1.0508\n",
      "Epoch 13/20\n",
      "300/300 [==============================] - 152s 508ms/step - loss: 1.1380 - val_loss: 0.9163\n",
      "Epoch 14/20\n",
      "300/300 [==============================] - 154s 512ms/step - loss: 1.0342 - val_loss: 0.8131\n",
      "Epoch 15/20\n",
      "300/300 [==============================] - 156s 519ms/step - loss: 0.9550 - val_loss: 0.7353\n",
      "Epoch 16/20\n",
      "300/300 [==============================] - 164s 548ms/step - loss: 0.8933 - val_loss: 0.6762\n",
      "Epoch 17/20\n",
      "300/300 [==============================] - 154s 515ms/step - loss: 0.8415 - val_loss: 0.6297\n",
      "Epoch 18/20\n",
      "300/300 [==============================] - 152s 506ms/step - loss: 0.8003 - val_loss: 0.5918\n",
      "Epoch 19/20\n",
      "300/300 [==============================] - 152s 507ms/step - loss: 0.7647 - val_loss: 0.5607\n",
      "Epoch 20/20\n",
      "300/300 [==============================] - 155s 518ms/step - loss: 0.7333 - val_loss: 0.5348\n",
      "Model has been saved jao gand marao\n"
     ]
    }
   ],
   "source": [
    "history = model.fit(x_train,y_train, epochs = epoch, batch_size=batch_size, verbose=1, validation_data=(x_test,y_test))\n",
    "\n",
    "model.save('mnist.h5')\n",
    "print('Model has been saved jao gand marao')"
   ]
  },
  {
   "cell_type": "code",
   "execution_count": 14,
   "id": "b9cb1bd0",
   "metadata": {},
   "outputs": [
    {
     "name": "stdout",
     "output_type": "stream",
     "text": [
      "Test loss: 0.5347875356674194\n"
     ]
    }
   ],
   "source": [
    "score = model.evaluate(x_test, y_test, verbose=1)\n",
    "print('Test loss:', score)\n",
    "# print('Test accuracy:', score)"
   ]
  },
  {
   "cell_type": "code",
   "execution_count": null,
   "id": "3221a41d",
   "metadata": {},
   "outputs": [],
   "source": []
  }
 ],
 "metadata": {
  "kernelspec": {
   "display_name": "Python 3 (ipykernel)",
   "language": "python",
   "name": "python3"
  },
  "language_info": {
   "codemirror_mode": {
    "name": "ipython",
    "version": 3
   },
   "file_extension": ".py",
   "mimetype": "text/x-python",
   "name": "python",
   "nbconvert_exporter": "python",
   "pygments_lexer": "ipython3",
   "version": "3.10.2"
  }
 },
 "nbformat": 4,
 "nbformat_minor": 5
}
