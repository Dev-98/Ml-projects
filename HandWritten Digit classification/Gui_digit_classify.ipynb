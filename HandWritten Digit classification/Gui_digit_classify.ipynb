{
 "cells": [
  {
   "cell_type": "code",
   "execution_count": 10,
   "id": "e2b5dd3c",
   "metadata": {},
   "outputs": [
    {
     "data": {
      "image/png": "[encoded data removed]",
      "text/plain": [
       "<Figure size 432x288 with 1 Axes>"
      ]
     },
     "metadata": {
      "needs_background": "light"
     },
     "output_type": "display_data"
    }
   ],
   "source": [
    "from keras.models import load_model\n",
    "from tkinter import *\n",
    "import win32gui\n",
    "from PIL import ImageGrab, Image,ImageOps\n",
    "import numpy as np\n",
    "import tkinter as tk\n",
    "import cv2\n",
    "import matplotlib.pyplot as plt\n",
    "\n",
    "\n",
    "model = load_model('model_mnist.h5')\n",
    "\n",
    "def predict_digit(img):\n",
    "    #changing imgage into 28x28 pixel\n",
    "    img = img.resize((28,28))\n",
    "    \n",
    "    #img to grayscale\n",
    "    img = img.convert('L')\n",
    "    img = ImageOps.invert(img)\n",
    "    img = np.array(img)\n",
    "    # mo = Image.fromarray(img)\n",
    "    # mo.save('1.jpg')\n",
    "    plt.imshow(img)\n",
    "    \n",
    "    #reshaping according model and normalizing\n",
    "    img = img.reshape(1,28,28,1)\n",
    "    img = img/255.0\n",
    "    \n",
    "    res = model.predict([img])[0]\n",
    "    \n",
    "    return np.argmax(res),max(res)\n",
    "\n",
    "class App(tk.Tk):\n",
    "    def __init__(self):\n",
    "        tk.Tk.__init__(self)\n",
    "        self.x = self.y = 0\n",
    "        \n",
    "        # Elements on canvas and canvas\n",
    "        self.canvas = tk.Canvas(self, width = 400 , height = 400, bg = 'white', cursor = 'cross')\n",
    "        self.label = tk.Label(self, text=\"Waiting..\", font=(\"Helvetica\", 40))\n",
    "        self.classify_btn = tk.Button(self, text = \"Recognise\", command =self.classify_handwriting) \n",
    "        self.clear_btn = tk.Button(self, text = \"Clear\", command = self.clear_all)\n",
    "        \n",
    "        # Grid structure\n",
    "        self.canvas.grid(row = 0,column = 0, pady= 2, sticky=W)\n",
    "        self.label.grid(row=0,column=1,padx=2,pady=2)\n",
    "        self.classify_btn.grid(row = 1,column = 0 , padx = 2,pady = 2)\n",
    "        self.clear_btn.grid(row = 1, column = 1, pady= 2)\n",
    "        \n",
    "        self.canvas.bind(\"<B1 -Motion>\", self.draw_lines)\n",
    "        \n",
    "    def clear_all(self):\n",
    "        self.canvas.delete('all')\n",
    "        \n",
    "    def classify_handwriting(self):\n",
    "        HWND = self.canvas.winfo_id() # get the handle of the canvas\n",
    "        rect = win32gui.GetWindowRect(HWND) # get the coordinate of the canvas\n",
    "        im = ImageGrab.grab(rect)\n",
    "        \n",
    "#         cv2.imshow(im)\n",
    "        digit, acc = predict_digit(im)\n",
    "        self.label.configure(text= str(digit)+', '+ str(int(acc*100))+'%')\n",
    "    def draw_lines(self, event):\n",
    "        self.x = event.x\n",
    "        self.y = event.y\n",
    "        r=8\n",
    "        self.canvas.create_oval(self.x-r, self.y-r, self.x + r, self.y + r, fill='black')\n",
    "\n",
    "        \n",
    "app = App()\n",
    "mainloop()"
   ]
  },
  {
   "cell_type": "code",
   "execution_count": null,
   "id": "5eb1508c",
   "metadata": {},
   "outputs": [],
   "source": []
  }
 ],
 "metadata": {
  "kernelspec": {
   "display_name": "Python 3 (ipykernel)",
   "language": "python",
   "name": "python3"
  },
  "language_info": {
   "codemirror_mode": {
    "name": "ipython",
    "version": 3
   },
   "file_extension": ".py",
   "mimetype": "text/x-python",
   "name": "python",
   "nbconvert_exporter": "python",
   "pygments_lexer": "ipython3",
   "version": "3.10.2"
  }
 },
 "nbformat": 4,
 "nbformat_minor": 5
}
