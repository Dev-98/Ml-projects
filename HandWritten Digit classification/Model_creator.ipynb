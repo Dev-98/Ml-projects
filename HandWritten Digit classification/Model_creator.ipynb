{
 "cells": [
  {
   "cell_type": "code",
   "execution_count": 1,
   "id": "6ca2582c",
   "metadata": {},
   "outputs": [],
   "source": [
    "import keras\n",
    "from keras.datasets import mnist\n",
    "from keras.models import Sequential\n",
    "from keras.layers import Dense,Dropout,Flatten\n",
    "from keras.layers import Conv2D,MaxPooling2D\n",
    "from keras import backend as k\n",
    "from tensorflow.keras.utils import to_categorical\n",
    "import tensorflow as tf"
   ]
  },
  {
   "cell_type": "code",
   "execution_count": 3,
   "id": "2f0361d7",
   "metadata": {},
   "outputs": [],
   "source": [
    "(x_train, y_train), (x_test, y_test) = mnist.load_data()"
   ]
  },
  {
   "cell_type": "code",
   "execution_count": 5,
   "id": "487a77a3",
   "metadata": {},
   "outputs": [
    {
     "name": "stdout",
     "output_type": "stream",
     "text": [
      "x_train shape: (60000, 28, 28, 1)\n",
      "10000 test samples\n"
     ]
    }
   ],
   "source": [
    "x_train = x_train.reshape(x_train.shape[0],28,28,1)\n",
    "x_test = x_test.reshape(x_test.shape[0],28,28,1)\n",
    "\n",
    "y_train = to_categorical(y_train)\n",
    "y_test = to_categorical(y_test)\n",
    "\n",
    "x_train = x_train.astype('float32')\n",
    "x_test = x_test.astype('float32')\n",
    "x_train /= 255\n",
    "x_test /= 255\n",
    "\n",
    "\n",
    "print('x_train shape:', x_train.shape)\n",
    "\n",
    "print(x_test.shape[0], 'test samples')\n",
    "# print(y_train[0])"
   ]
  },
  {
   "cell_type": "code",
   "execution_count": 8,
   "id": "aa057f55",
   "metadata": {},
   "outputs": [],
   "source": [
    "batch_size = 128\n",
    "epoch = 15\n",
    "input_shap = (28,28,1)\n",
    "\n",
    "\n",
    "model = Sequential()\n",
    "\n",
    "model.add(Conv2D(32, kernel_size=(5,5), activation='relu', input_shape=input_shap))\n",
    "model.add(Conv2D(64, (3,3), activation='relu'))\n",
    "model.add(MaxPooling2D(pool_size=(2,2)))\n",
    "model.add(Dropout(0.25))\n",
    "model.add(Flatten())\n",
    "model.add(Dense(256,activation='relu'))\n",
    "model.add(Dropout(0.5))\n",
    "model.add(Dense(10,activation='softmax'))\n",
    "\n",
    "model.compile(loss=keras.losses.categorical_crossentropy,optimizer=tf.keras.optimizers.Adadelta(),metrics=['accuracy'])"
   ]
  },
  {
   "cell_type": "code",
   "execution_count": 9,
   "id": "5cb04759",
   "metadata": {},
   "outputs": [
    {
     "name": "stdout",
     "output_type": "stream",
     "text": [
      "Epoch 1/15\n",
      "469/469 [==============================] - 180s 379ms/step - loss: 2.2762 - accuracy: 0.1660 - val_loss: 2.2253 - val_accuracy: 0.2882\n",
      "Epoch 2/15\n",
      "469/469 [==============================] - 173s 370ms/step - loss: 2.1968 - accuracy: 0.2907 - val_loss: 2.1305 - val_accuracy: 0.4668\n",
      "Epoch 3/15\n",
      "469/469 [==============================] - 162s 346ms/step - loss: 2.0973 - accuracy: 0.4038 - val_loss: 2.0030 - val_accuracy: 0.5856\n",
      "Epoch 4/15\n",
      "469/469 [==============================] - 165s 352ms/step - loss: 1.9633 - accuracy: 0.4951 - val_loss: 1.8299 - val_accuracy: 0.6587\n",
      "Epoch 5/15\n",
      "469/469 [==============================] - 163s 348ms/step - loss: 1.7867 - accuracy: 0.5670 - val_loss: 1.6097 - val_accuracy: 0.7117\n",
      "Epoch 6/15\n",
      "469/469 [==============================] - 163s 348ms/step - loss: 1.5781 - accuracy: 0.6228 - val_loss: 1.3656 - val_accuracy: 0.7572\n",
      "Epoch 7/15\n",
      "469/469 [==============================] - 164s 349ms/step - loss: 1.3671 - accuracy: 0.6621 - val_loss: 1.1354 - val_accuracy: 0.7932\n",
      "Epoch 8/15\n",
      "469/469 [==============================] - 164s 349ms/step - loss: 1.1853 - accuracy: 0.6915 - val_loss: 0.9495 - val_accuracy: 0.8156\n",
      "Epoch 9/15\n",
      "469/469 [==============================] - 166s 355ms/step - loss: 1.0468 - accuracy: 0.7141 - val_loss: 0.8127 - val_accuracy: 0.8299\n",
      "Epoch 10/15\n",
      "469/469 [==============================] - 167s 355ms/step - loss: 0.9433 - accuracy: 0.7323 - val_loss: 0.7140 - val_accuracy: 0.8417\n",
      "Epoch 11/15\n",
      "469/469 [==============================] - 168s 358ms/step - loss: 0.8613 - accuracy: 0.7491 - val_loss: 0.6414 - val_accuracy: 0.8516\n",
      "Epoch 12/15\n",
      "469/469 [==============================] - 169s 361ms/step - loss: 0.7990 - accuracy: 0.7638 - val_loss: 0.5873 - val_accuracy: 0.8587\n",
      "Epoch 13/15\n",
      "469/469 [==============================] - 173s 369ms/step - loss: 0.7503 - accuracy: 0.7758 - val_loss: 0.5458 - val_accuracy: 0.8657\n",
      "Epoch 14/15\n",
      "469/469 [==============================] - 168s 359ms/step - loss: 0.7136 - accuracy: 0.7827 - val_loss: 0.5125 - val_accuracy: 0.8710\n",
      "Epoch 15/15\n",
      "469/469 [==============================] - 171s 364ms/step - loss: 0.6783 - accuracy: 0.7954 - val_loss: 0.4858 - val_accuracy: 0.8764\n",
      "Model has been saved jao gand marao\n"
     ]
    }
   ],
   "source": [
    "history = model.fit(x_train,y_train, epochs = epoch, batch_size=batch_size, verbose=1, validation_data=(x_test,y_test))\n",
    "\n",
    "model.save('mnist1.h5')\n",
    "print('Model has been saved jao gand marao')"
   ]
  },
  {
   "cell_type": "code",
   "execution_count": 23,
   "id": "b9cb1bd0",
   "metadata": {},
   "outputs": [
    {
     "name": "stdout",
     "output_type": "stream",
     "text": [
      "313/313 [==============================] - 7s 21ms/step - loss: 0.4858 - accuracy: 0.8764\n",
      "Test loss: [0.48576509952545166, 0.8763999938964844]\n"
     ]
    }
   ],
   "source": [
    "score = model.evaluate(x_test, y_test, verbose=1)\n",
    "print('Test loss:', score)\n",
    "# print('Test accuracy:', score)"
   ]
  },
  {
   "cell_type": "markdown",
   "id": "296aae43",
   "metadata": {},
   "source": [
    "# Testing\n"
   ]
  },
  {
   "cell_type": "code",
   "execution_count": 7,
   "id": "65cd7dd2",
   "metadata": {},
   "outputs": [],
   "source": [
    "from keras.models import load_model\n",
    "import numpy as np"
   ]
  },
  {
   "cell_type": "code",
   "execution_count": 9,
   "id": "3221a41d",
   "metadata": {
    "scrolled": true
   },
   "outputs": [],
   "source": [
    "r = model.predict(x_train[3:6])"
   ]
  },
  {
   "cell_type": "code",
   "execution_count": 56,
   "id": "549bfc63",
   "metadata": {},
   "outputs": [
    {
     "data": {
      "text/plain": [
       "(2, 0.8240324)"
      ]
     },
     "execution_count": 56,
     "metadata": {},
     "output_type": "execute_result"
    }
   ],
   "source": [
    "np.argmax(r[2]),max(r[2])"
   ]
  },
  {
   "cell_type": "code",
   "execution_count": 58,
   "id": "93310bf9",
   "metadata": {},
   "outputs": [
    {
     "data": {
      "text/plain": [
       "(2,)"
      ]
     },
     "execution_count": 58,
     "metadata": {},
     "output_type": "execute_result"
    }
   ],
   "source": [
    "np.argmax(y_train[3:6][2]), "
   ]
  },
  {
   "cell_type": "code",
   "execution_count": 59,
   "id": "26b27305",
   "metadata": {},
   "outputs": [],
   "source": [
    "mod = load_model('mnist.h5')\n",
    "res = mod.predict(x_train[3:6])"
   ]
  },
  {
   "cell_type": "code",
   "execution_count": 60,
   "id": "44ee3274",
   "metadata": {},
   "outputs": [
    {
     "data": {
      "text/plain": [
       "(2, 0.7914884)"
      ]
     },
     "execution_count": 60,
     "metadata": {},
     "output_type": "execute_result"
    }
   ],
   "source": [
    "np.argmax(res[2]),max(res[2])"
   ]
  },
  {
   "cell_type": "code",
   "execution_count": null,
   "id": "374f856f",
   "metadata": {},
   "outputs": [],
   "source": []
  }
 ],
 "metadata": {
  "kernelspec": {
   "display_name": "Python 3 (ipykernel)",
   "language": "python",
   "name": "python3"
  },
  "language_info": {
   "codemirror_mode": {
    "name": "ipython",
    "version": 3
   },
   "file_extension": ".py",
   "mimetype": "text/x-python",
   "name": "python",
   "nbconvert_exporter": "python",
   "pygments_lexer": "ipython3",
   "version": "3.10.2"
  }
 },
 "nbformat": 4,
 "nbformat_minor": 5
}
