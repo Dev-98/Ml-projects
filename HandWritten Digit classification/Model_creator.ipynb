{
 "cells": [
  {
   "cell_type": "code",
   "execution_count": 2,
   "id": "884064eb-b9cb-4a32-b84a-ddbd9a3c465c",
   "metadata": {},
   "outputs": [],
   "source": [
    "import keras\n",
    "from keras.datasets import mnist\n",
    "from keras.models import Sequential\n",
    "from keras.layers import Dense,Dropout,Flatten\n",
    "from keras.layers import Conv2D,MaxPooling2D\n",
    "from keras import backend as k\n",
    "from tensorflow.keras.utils import to_categorical\n",
    "import tensorflow as tf"
   ]
  },
  {
   "cell_type": "code",
   "execution_count": 10,
   "id": "d65a8150-798f-4348-b325-d11739302103",
   "metadata": {},
   "outputs": [],
   "source": [
    "tf.config.run_functions_eagerly(True)"
   ]
  },
  {
   "cell_type": "code",
   "execution_count": 7,
   "id": "2f0361d7",
   "metadata": {},
   "outputs": [],
   "source": [
    "(x_train, y_train), (x_test, y_test) = mnist.load_data()"
   ]
  },
  {
   "cell_type": "code",
   "execution_count": 8,
   "id": "487a77a3",
   "metadata": {},
   "outputs": [
    {
     "name": "stdout",
     "output_type": "stream",
     "text": [
      "x_train shape: (60000, 28, 28, 1)\n",
      "10000 test samples\n"
     ]
    }
   ],
   "source": [
    "x_train = x_train.reshape(x_train.shape[0],28,28,1)\n",
    "x_test = x_test.reshape(x_test.shape[0],28,28,1)\n",
    "\n",
    "# y_train = to_categorical(y_train)\n",
    "# y_test = to_categorical(y_test)\n",
    "\n",
    "x_train = x_train.astype('float32')\n",
    "x_test = x_test.astype('float32')\n",
    "x_train /= 255\n",
    "x_test /= 255\n",
    "\n",
    "\n",
    "print('x_train shape:', x_train.shape)\n",
    "\n",
    "print(x_test.shape[0], 'test samples')\n",
    "# print(y_train[0])"
   ]
  },
  {
   "cell_type": "code",
   "execution_count": 11,
   "id": "aa057f55",
   "metadata": {},
   "outputs": [],
   "source": [
    "model = Sequential([\n",
    "    Conv2D(32,(3,3),activation='relu',input_shape=(28,28,1)),\n",
    "    MaxPooling2D(),\n",
    "    Conv2D(64,(3,3),activation='relu'),\n",
    "    MaxPooling2D(),\n",
    "    Flatten(),\n",
    "    Dropout(0.3),\n",
    "    Dense(128,activation='relu'),\n",
    "    Dropout(0.3),\n",
    "    Dense(64,activation='relu'),\n",
    "    Dropout(0.3),\n",
    "    Dense(10,activation='softmax')\n",
    "\n",
    "])\n",
    "\n",
    "model.compile(optimizer='adam',loss=keras.losses.SparseCategoricalCrossentropy(),metrics=['accuracy'])"
   ]
  },
  {
   "cell_type": "code",
   "execution_count": 12,
   "id": "5cb04759",
   "metadata": {},
   "outputs": [
    {
     "name": "stdout",
     "output_type": "stream",
     "text": [
      "Epoch 1/5\n"
     ]
    },
    {
     "name": "stderr",
     "output_type": "stream",
     "text": [
      "C:\\Python\\Python310\\lib\\site-packages\\tensorflow\\python\\data\\ops\\structured_function.py:264: UserWarning: Even though the `tf.config.experimental_run_functions_eagerly` option is set, this option does not apply to tf.data functions. To force eager execution of tf.data functions, please use `tf.data.experimental.enable_debug_mode()`.\n",
      "  warnings.warn(\n"
     ]
    },
    {
     "name": "stdout",
     "output_type": "stream",
     "text": [
      "120/120 [==============================] - 68s 551ms/step - loss: 0.6893 - accuracy: 0.7779 - val_loss: 0.1082 - val_accuracy: 0.9670\n",
      "Epoch 2/5\n",
      "120/120 [==============================] - 71s 594ms/step - loss: 0.1627 - accuracy: 0.9525 - val_loss: 0.0643 - val_accuracy: 0.9792\n",
      "Epoch 3/5\n",
      "120/120 [==============================] - 72s 599ms/step - loss: 0.1159 - accuracy: 0.9658 - val_loss: 0.0453 - val_accuracy: 0.9861\n",
      "Epoch 4/5\n",
      "120/120 [==============================] - 69s 572ms/step - loss: 0.0915 - accuracy: 0.9745 - val_loss: 0.0390 - val_accuracy: 0.9869\n",
      "Epoch 5/5\n",
      "120/120 [==============================] - 364s 3s/step - loss: 0.0763 - accuracy: 0.9787 - val_loss: 0.0384 - val_accuracy: 0.9880\n"
     ]
    }
   ],
   "source": [
    "history = model.fit(x_train,y_train, epochs = 5, batch_size=500, validation_data=(x_test,y_test))\n",
    "\n",
    "model.save('model_mnist.h5')"
   ]
  },
  {
   "cell_type": "code",
   "execution_count": null,
   "id": "f93411c5",
   "metadata": {},
   "outputs": [],
   "source": []
  },
  {
   "cell_type": "code",
   "execution_count": null,
   "id": "fe38378b",
   "metadata": {},
   "outputs": [],
   "source": []
  },
  {
   "cell_type": "code",
   "execution_count": 23,
   "id": "b9cb1bd0",
   "metadata": {},
   "outputs": [
    {
     "name": "stdout",
     "output_type": "stream",
     "text": [
      "313/313 [==============================] - 7s 21ms/step - loss: 0.4858 - accuracy: 0.8764\n",
      "Test loss: [0.48576509952545166, 0.8763999938964844]\n"
     ]
    }
   ],
   "source": [
    "score = model.evaluate(x_test, y_test, verbose=1)\n",
    "print('Test loss:', score)\n",
    "# print('Test accuracy:', score)"
   ]
  },
  {
   "cell_type": "markdown",
   "id": "296aae43",
   "metadata": {},
   "source": [
    "# Testing\n"
   ]
  },
  {
   "cell_type": "code",
   "execution_count": 7,
   "id": "65cd7dd2",
   "metadata": {},
   "outputs": [],
   "source": [
    "from keras.models import load_model\n",
    "import numpy as np"
   ]
  },
  {
   "cell_type": "code",
   "execution_count": 9,
   "id": "3221a41d",
   "metadata": {
    "scrolled": true
   },
   "outputs": [],
   "source": [
    "r = model.predict(x_train[3:6])"
   ]
  },
  {
   "cell_type": "code",
   "execution_count": 56,
   "id": "549bfc63",
   "metadata": {},
   "outputs": [
    {
     "data": {
      "text/plain": [
       "(2, 0.8240324)"
      ]
     },
     "execution_count": 56,
     "metadata": {},
     "output_type": "execute_result"
    }
   ],
   "source": [
    "np.argmax(r[2]),max(r[2])"
   ]
  },
  {
   "cell_type": "code",
   "execution_count": 58,
   "id": "93310bf9",
   "metadata": {},
   "outputs": [
    {
     "data": {
      "text/plain": [
       "(2,)"
      ]
     },
     "execution_count": 58,
     "metadata": {},
     "output_type": "execute_result"
    }
   ],
   "source": [
    "np.argmax(y_train[3:6][2]), "
   ]
  },
  {
   "cell_type": "code",
   "execution_count": 59,
   "id": "26b27305",
   "metadata": {},
   "outputs": [],
   "source": [
    "mod = load_model('mnist.h5')\n",
    "res = mod.predict(x_train[3:6])"
   ]
  },
  {
   "cell_type": "code",
   "execution_count": 60,
   "id": "44ee3274",
   "metadata": {},
   "outputs": [
    {
     "data": {
      "text/plain": [
       "(2, 0.7914884)"
      ]
     },
     "execution_count": 60,
     "metadata": {},
     "output_type": "execute_result"
    }
   ],
   "source": [
    "np.argmax(res[2]),max(res[2])"
   ]
  },
  {
   "cell_type": "code",
   "execution_count": null,
   "id": "374f856f",
   "metadata": {},
   "outputs": [],
   "source": []
  }
 ],
 "metadata": {
  "kernelspec": {
   "display_name": "Python 3 (ipykernel)",
   "language": "python",
   "name": "python3"
  },
  "language_info": {
   "codemirror_mode": {
    "name": "ipython",
    "version": 3
   },
   "file_extension": ".py",
   "mimetype": "text/x-python",
   "name": "python",
   "nbconvert_exporter": "python",
   "pygments_lexer": "ipython3",
   "version": "3.10.2"
  }
 },
 "nbformat": 4,
 "nbformat_minor": 5
}
